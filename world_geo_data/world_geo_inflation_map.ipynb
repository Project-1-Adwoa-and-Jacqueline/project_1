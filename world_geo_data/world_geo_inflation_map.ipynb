{
 "cells": [
  {
   "cell_type": "code",
   "execution_count": null,
   "metadata": {},
   "outputs": [],
   "source": [
    "from pathlib import Path\n",
    "import datetime as dt\n",
    "import hvplot.pandas\n",
    "import pandas as pd\n",
    "from shapely.geometry import Polygon\n",
    "import geopandas as gpd"
   ]
  },
  {
   "cell_type": "code",
   "execution_count": null,
   "metadata": {},
   "outputs": [],
   "source": [
    "# create path variables\n",
    "world_geo_path = Path(\"world_geo_cleaned_data.csv\")\n",
    "world_inflation_path = Path(\"..\\\\world_inflation_data\\\\world_inflation_cleaned_data.csv\")\n",
    "country_info_path = (\"country_info.csv\")\n",
    "\n",
    "# create csv\n",
    "world_geo = pd.read_csv(world_geo_path)\n",
    "world_inflation = pd.read_csv(world_inflation_path)\n",
    "country_info = pd.read_csv(country_info_path)\n",
    "\n",
    "display(world_geo)\n",
    "display(world_inflation)\n",
    "display(country_info)"
   ]
  },
  {
   "cell_type": "code",
   "execution_count": null,
   "metadata": {},
   "outputs": [],
   "source": [
    "# set indices\n",
    "world_geo.set_index(\"country\", inplace=True)\n",
    "world_inflation.set_index(\"country\", inplace=True)\n",
    "country_info.set_index(\"country_code\")\n",
    "\n",
    "display(world_geo)\n",
    "display(world_inflation)"
   ]
  },
  {
   "cell_type": "code",
   "execution_count": null,
   "metadata": {},
   "outputs": [],
   "source": [
    "# find nulls\n",
    "# null mask\n",
    "# attributed resource: https://saturncloud.io/blog/python-pandas-selecting-rows-whose-column-value-is-null-none-nan/#:~:text=The%20simplest%20way%20to%20select,rows%20that%20have%20null%20values.\n",
    "nulls = world_geo.isnull().any(axis=1)\n",
    "null_rows = world_geo[nulls]\n",
    "null_rows"
   ]
  },
  {
   "cell_type": "code",
   "execution_count": null,
   "metadata": {},
   "outputs": [],
   "source": [
    "# cast country code as a strong to eliminate issue with NA Namibia\n",
    "world_geo[\"country_code\"] = world_geo[\"country_code\"].astype(str)\n",
    "\n",
    "# check\n",
    "nulls = world_geo.isnull().any(axis=1)\n",
    "null_rows = world_geo[nulls]\n",
    "display(null_rows)\n",
    "display(world_geo.loc[\"Namibia\"])\n",
    "\n",
    "# replace nan with NA\n",
    "world_geo.at[\"Namibia\", \"country_code\"] = \"NA\"\n",
    "display(world_geo.loc[\"Namibia\"])"
   ]
  },
  {
   "cell_type": "code",
   "execution_count": null,
   "metadata": {},
   "outputs": [],
   "source": [
    "# concat for dot plot\n",
    "combined_df = pd.concat([world_geo, world_inflation], axis=1, join=\"inner\")\n",
    "display(combined_df)\n",
    "\n"
   ]
  },
  {
   "cell_type": "code",
   "execution_count": null,
   "metadata": {},
   "outputs": [],
   "source": [
    "# rename column\n",
    "combined_df.rename(columns={\"2022\":\"inflation rate\"}, inplace=True)"
   ]
  },
  {
   "cell_type": "code",
   "execution_count": null,
   "metadata": {},
   "outputs": [],
   "source": [
    "# data types\n",
    "combined_df.dtypes"
   ]
  },
  {
   "cell_type": "code",
   "execution_count": null,
   "metadata": {},
   "outputs": [],
   "source": [
    "map = combined_df.hvplot.points(\n",
    "    \"longitude\",\n",
    "    \"latitude\",\n",
    "    geo=True,\n",
    "    tiles=\"OSM\",\n",
    "    size=\"inflation rate\",\n",
    "    frame_width=700,\n",
    "    frame_height=500,\n",
    "    title=\"World Inflation by Country in 2022\",\n",
    "    hover_cols=[\"country\", \"inflation rate\"]\n",
    ")\n",
    "\n",
    "map"
   ]
  },
  {
   "cell_type": "code",
   "execution_count": null,
   "metadata": {},
   "outputs": [],
   "source": [
    "world = gpd.read_file(gpd.datasets.get_path('naturalearth_lowres'))\n",
    "world"
   ]
  },
  {
   "cell_type": "code",
   "execution_count": null,
   "metadata": {},
   "outputs": [],
   "source": [
    "world.set_index(\"name\", inplace=True)"
   ]
  },
  {
   "cell_type": "code",
   "execution_count": null,
   "metadata": {},
   "outputs": [],
   "source": [
    "new_df = world.merge(combined_df, how='left', left_on='name', right_on='country')"
   ]
  },
  {
   "cell_type": "code",
   "execution_count": null,
   "metadata": {},
   "outputs": [],
   "source": [
    "new_df"
   ]
  },
  {
   "cell_type": "code",
   "execution_count": null,
   "metadata": {},
   "outputs": [],
   "source": [
    "# find nulls\n",
    "# null mask\n",
    "# attributed resource: https://saturncloud.io/blog/python-pandas-selecting-rows-whose-column-value-is-null-none-nan/#:~:text=The%20simplest%20way%20to%20select,rows%20that%20have%20null%20values.\n",
    "nulls = new_df.isnull().any(axis=1)\n",
    "null_rows = new_df[nulls]\n",
    "null_rows"
   ]
  },
  {
   "cell_type": "code",
   "execution_count": null,
   "metadata": {},
   "outputs": [],
   "source": [
    "new_df.hvplot(\n",
    "    geo=True,\n",
    "    c=\"2022\",\n",
    ")"
   ]
  },
  {
   "cell_type": "code",
   "execution_count": null,
   "metadata": {},
   "outputs": [],
   "source": [
    "poly_combined.hvplot(\n",
    "    \n",
    "    \n",
    ")"
   ]
  }
 ],
 "metadata": {
  "kernelspec": {
   "display_name": "dev",
   "language": "python",
   "name": "python3"
  },
  "language_info": {
   "codemirror_mode": {
    "name": "ipython",
    "version": 3
   },
   "file_extension": ".py",
   "mimetype": "text/x-python",
   "name": "python",
   "nbconvert_exporter": "python",
   "pygments_lexer": "ipython3",
   "version": "3.10.13"
  }
 },
 "nbformat": 4,
 "nbformat_minor": 2
}
